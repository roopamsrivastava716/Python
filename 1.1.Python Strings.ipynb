{
 "cells": [
  {
   "cell_type": "markdown",
   "metadata": {},
   "source": [
    "### Strings in Python\n",
    "Strings support indexing and slicing in Python and Strings are immutable"
   ]
  },
  {
   "cell_type": "code",
   "execution_count": 14,
   "metadata": {},
   "outputs": [],
   "source": [
    "string1='hello you'"
   ]
  },
  {
   "cell_type": "code",
   "execution_count": 12,
   "metadata": {},
   "outputs": [
    {
     "data": {
      "text/plain": [
       "'uoy olleh'"
      ]
     },
     "execution_count": 12,
     "metadata": {},
     "output_type": "execute_result"
    }
   ],
   "source": [
    "string1[::-1]"
   ]
  },
  {
   "cell_type": "code",
   "execution_count": 19,
   "metadata": {},
   "outputs": [
    {
     "data": {
      "text/plain": [
       "''"
      ]
     },
     "execution_count": 19,
     "metadata": {},
     "output_type": "execute_result"
    }
   ],
   "source": [
    "string1[:0]"
   ]
  },
  {
   "cell_type": "code",
   "execution_count": 23,
   "metadata": {},
   "outputs": [
    {
     "data": {
      "text/plain": [
       "'llo'"
      ]
     },
     "execution_count": 23,
     "metadata": {},
     "output_type": "execute_result"
    }
   ],
   "source": [
    "string1[2:5]"
   ]
  },
  {
   "cell_type": "code",
   "execution_count": 29,
   "metadata": {},
   "outputs": [],
   "source": [
    "# immutability\n",
    "text='Tam'\n",
    "#text[0]='j' \n",
    "#Gives an error"
   ]
  },
  {
   "cell_type": "code",
   "execution_count": 30,
   "metadata": {},
   "outputs": [],
   "source": [
    "#Grabbing letters from a string to form another string\n",
    "letters=text[1:3]"
   ]
  },
  {
   "cell_type": "code",
   "execution_count": 31,
   "metadata": {},
   "outputs": [
    {
     "data": {
      "text/plain": [
       "'Pam'"
      ]
     },
     "execution_count": 31,
     "metadata": {},
     "output_type": "execute_result"
    }
   ],
   "source": [
    "new_string='P'+letters\n",
    "new_string"
   ]
  },
  {
   "cell_type": "code",
   "execution_count": 32,
   "metadata": {},
   "outputs": [
    {
     "data": {
      "text/plain": [
       "'Hello How are you?'"
      ]
     },
     "execution_count": 32,
     "metadata": {},
     "output_type": "execute_result"
    }
   ],
   "source": [
    "#String Concatenation\n",
    "s1='Hello'\n",
    "s1+' How are you?'"
   ]
  },
  {
   "cell_type": "code",
   "execution_count": 34,
   "metadata": {},
   "outputs": [
    {
     "data": {
      "text/plain": [
       "'HelloHelloHello'"
      ]
     },
     "execution_count": 34,
     "metadata": {},
     "output_type": "execute_result"
    }
   ],
   "source": [
    "#string multiplication\n",
    "s1*3"
   ]
  },
  {
   "cell_type": "code",
   "execution_count": 35,
   "metadata": {},
   "outputs": [],
   "source": [
    "#Exploring string functions\n",
    "sample_string='jaipur is called pink city'"
   ]
  },
  {
   "cell_type": "code",
   "execution_count": 36,
   "metadata": {},
   "outputs": [
    {
     "data": {
      "text/plain": [
       "'JAIPUR IS CALLED PINK CITY'"
      ]
     },
     "execution_count": 36,
     "metadata": {},
     "output_type": "execute_result"
    }
   ],
   "source": [
    "sample_string.upper()"
   ]
  },
  {
   "cell_type": "markdown",
   "metadata": {},
   "source": [
    "Note the above operation does not affect the orignal string as this is not inplace operation. To make changes in orignal string it has to be assigned to another variable"
   ]
  },
  {
   "cell_type": "code",
   "execution_count": 40,
   "metadata": {},
   "outputs": [
    {
     "data": {
      "text/plain": [
       "['jaipur', 'is', 'called', 'pink', 'city']"
      ]
     },
     "execution_count": 40,
     "metadata": {},
     "output_type": "execute_result"
    }
   ],
   "source": [
    "sample_string.split()"
   ]
  },
  {
   "cell_type": "code",
   "execution_count": 44,
   "metadata": {},
   "outputs": [
    {
     "data": {
      "text/plain": [
       "['ja', 'pur ', 's called p', 'nk c', 'ty']"
      ]
     },
     "execution_count": 44,
     "metadata": {},
     "output_type": "execute_result"
    }
   ],
   "source": [
    "sample_string.split('i')"
   ]
  },
  {
   "cell_type": "markdown",
   "metadata": {},
   "source": [
    "### String Formatting\n",
    "String interpolation adds a variable to a string- These are two common methods| .format() method and f-string method"
   ]
  },
  {
   "cell_type": "code",
   "execution_count": 48,
   "metadata": {},
   "outputs": [
    {
     "name": "stdout",
     "output_type": "stream",
     "text": [
      "This is a test string!\n"
     ]
    }
   ],
   "source": [
    "# .format() method\n",
    "# Syntax: \n",
    "print('This is a {} {}'.format('test','string!'))"
   ]
  },
  {
   "cell_type": "code",
   "execution_count": 49,
   "metadata": {},
   "outputs": [
    {
     "name": "stdout",
     "output_type": "stream",
     "text": [
      "It is Manali in snowing since last night\n"
     ]
    }
   ],
   "source": [
    "print('It is {} in {} since {}'.format('Manali','snowing','last night'))"
   ]
  },
  {
   "cell_type": "code",
   "execution_count": 50,
   "metadata": {},
   "outputs": [
    {
     "name": "stdout",
     "output_type": "stream",
     "text": [
      "It is snowing in Manali since last night\n"
     ]
    }
   ],
   "source": [
    "print('It is {1} in {0} since {2}'.format('Manali','snowing','last night'))"
   ]
  },
  {
   "cell_type": "code",
   "execution_count": 51,
   "metadata": {},
   "outputs": [
    {
     "name": "stdout",
     "output_type": "stream",
     "text": [
      "It is snowing in Manali since last night\n"
     ]
    }
   ],
   "source": [
    "print('It is {b} in {a} since {c}'.format(a='Manali',b='snowing',c='last night'))"
   ]
  },
  {
   "cell_type": "code",
   "execution_count": 53,
   "metadata": {},
   "outputs": [
    {
     "name": "stdout",
     "output_type": "stream",
     "text": [
      "It is Manali in Manali since Manali\n"
     ]
    }
   ],
   "source": [
    "print('It is {a} in {a} since {a}'.format(a='Manali',b='snowing',c='last night'))"
   ]
  },
  {
   "cell_type": "code",
   "execution_count": 54,
   "metadata": {},
   "outputs": [],
   "source": [
    "# Formatting in flaat values\n",
    "division=1000/777"
   ]
  },
  {
   "cell_type": "code",
   "execution_count": null,
   "metadata": {},
   "outputs": [],
   "source": [
    "# print('The result of division is {}'.format(division))"
   ]
  },
  {
   "cell_type": "code",
   "execution_count": 59,
   "metadata": {},
   "outputs": [
    {
     "name": "stdout",
     "output_type": "stream",
     "text": [
      "The result of division is 1.287\n"
     ]
    }
   ],
   "source": [
    "# {value:width.precision f}\n",
    "\n",
    "print('The result of division is {div:1.3f}'.format(div=division))"
   ]
  },
  {
   "cell_type": "code",
   "execution_count": 61,
   "metadata": {},
   "outputs": [
    {
     "name": "stdout",
     "output_type": "stream",
     "text": [
      "hello, have a good day!\n"
     ]
    }
   ],
   "source": [
    "#f-string method : Formatted String Literals\n",
    "#syntax: \n",
    "text='day!'\n",
    "print(f'hello, have a good {text}')"
   ]
  },
  {
   "cell_type": "code",
   "execution_count": 62,
   "metadata": {},
   "outputs": [],
   "source": [
    "name='Rahul'\n",
    "job='doctor'\n",
    "age=32"
   ]
  },
  {
   "cell_type": "code",
   "execution_count": 64,
   "metadata": {},
   "outputs": [
    {
     "name": "stdout",
     "output_type": "stream",
     "text": [
      "Rahul is 32 years old doctor\n"
     ]
    }
   ],
   "source": [
    "print(f'{name} is {age} years old {job}')"
   ]
  },
  {
   "cell_type": "markdown",
   "metadata": {},
   "source": [
    "## Common Python String Questions"
   ]
  },
  {
   "cell_type": "code",
   "execution_count": 67,
   "metadata": {},
   "outputs": [
    {
     "name": "stdout",
     "output_type": "stream",
     "text": [
      "Please give a String : wow\n",
      "Given String is a Palindrome\n"
     ]
    }
   ],
   "source": [
    "#Palindrome program of String in Python\n",
    "string = input(\"Please give a String : \").lower()\n",
    "if(string == string[:: - 1]):\n",
    "   print(\"Given String is a Palindrome\")\n",
    "else:\n",
    "   print(\"Given String is not a Palindrome\")"
   ]
  },
  {
   "cell_type": "code",
   "execution_count": 68,
   "metadata": {},
   "outputs": [
    {
     "name": "stdout",
     "output_type": "stream",
     "text": [
      "Please give a String : MOM\n",
      "Given String is a Palindrome\n"
     ]
    }
   ],
   "source": [
    "def isPalindrome(string): \n",
    "    for i in range(0, int(len(string)/2)): \n",
    "        if string[i] != string[len(string)-i-1]:\n",
    "            return False\n",
    "    return True\n",
    " \n",
    "string = input(\"Please give a String : \")\n",
    "\n",
    "if (isPalindrome(string)):\n",
    "    print(\"Given String is a Palindrome\")\n",
    "else:\n",
    "    print(\"Given String is not a Palindrome\")"
   ]
  },
  {
   "cell_type": "code",
   "execution_count": 69,
   "metadata": {},
   "outputs": [
    {
     "name": "stdout",
     "output_type": "stream",
     "text": [
      "Please enter String 1 : abcd\n",
      "Please enter String 2 : dcab\n",
      "Anagram\n"
     ]
    }
   ],
   "source": [
    "# Anagrams \n",
    "def anagramCheck(str1, str2):\n",
    "    if (sorted(str1) == sorted(str2)) :  \n",
    "\t    return True \n",
    "    else :  \n",
    "\t    return False \n",
    "    \n",
    "str1 = input(\"Please enter String 1 : \")\n",
    "str2 = input(\"Please enter String 2 : \")\n",
    "if anagramCheck(str1,str2):\n",
    "    print(\"Anagram\")\n",
    "else:\n",
    "    print(\"Not an anagram\")"
   ]
  },
  {
   "cell_type": "code",
   "execution_count": 70,
   "metadata": {},
   "outputs": [
    {
     "name": "stdout",
     "output_type": "stream",
     "text": [
      "Please enter String : Canada\n",
      "Please enter a Character : a\n",
      "Total Number of occurence of  a is : 3\n"
     ]
    }
   ],
   "source": [
    "#Program to count occurrence of characters in string\n",
    "string = input(\"Please enter String : \")\n",
    "char = input(\"Please enter a Character : \")\n",
    "count = 0\n",
    "for i in range(len(string)):\n",
    "    if(string[i] == char):\n",
    "        count = count + 1\n",
    "print(\"Total Number of occurence of \", char, \"is :\" , count)"
   ]
  },
  {
   "cell_type": "code",
   "execution_count": 71,
   "metadata": {},
   "outputs": [
    {
     "name": "stdout",
     "output_type": "stream",
     "text": [
      "Please enter String : Germany\n",
      "Please enter a Character : y\n",
      "Total Number of occurence of  y is : 1\n"
     ]
    }
   ],
   "source": [
    "string = input(\"Please enter String : \")\n",
    "char = input(\"Please enter a Character : \")\n",
    "index, count = 0, 0\n",
    "while(index < len(string)):\n",
    "    if(string[index] == char):\n",
    "        count = count + 1\n",
    "    index = index + 1\n",
    "print(\"Total Number of occurence of \", char, \"is :\" , count)"
   ]
  },
  {
   "cell_type": "code",
   "execution_count": 72,
   "metadata": {},
   "outputs": [
    {
     "name": "stdout",
     "output_type": "stream",
     "text": [
      "please enter a string : Holiday in Goa\n",
      "please enter a character : a\n",
      "Holid y in Go \n"
     ]
    }
   ],
   "source": [
    "#Remove character from string in Python\n",
    "str = input(\"please enter a string : \")\n",
    "ch = input(\"please enter a character : \")\n",
    "print(str.replace(ch,\" \")) "
   ]
  },
  {
   "cell_type": "code",
   "execution_count": 73,
   "metadata": {},
   "outputs": [
    {
     "data": {
      "text/plain": [
       "'ygoloeG'"
      ]
     },
     "execution_count": 73,
     "metadata": {},
     "output_type": "execute_result"
    }
   ],
   "source": [
    "#Reverse a string\n",
    "sample_string='Geology'\n",
    "sample_string[::-1]"
   ]
  },
  {
   "cell_type": "code",
   "execution_count": 79,
   "metadata": {},
   "outputs": [
    {
     "name": "stdout",
     "output_type": "stream",
     "text": [
      "Count of A in GeeksforGeeks is 2 \n"
     ]
    }
   ],
   "source": [
    "#Find the occurance of a character using map and lambda\n",
    "# Python3 code to demonstrate \n",
    "# occurrence frequency using \n",
    "# lambda + sum() + map()\n",
    "  \n",
    "# initializing string \n",
    "test_str = \"Much Ado About Nothing\"\n",
    "  \n",
    "# using lambda + sum() + map() to get count \n",
    "# counting e \n",
    "count = sum(map(lambda x : 1 if 'A' in x else 0, test_str))\n",
    "  \n",
    "# printing result \n",
    "print (\"Count of A in GeeksforGeeks is {} \".format(count))"
   ]
  },
  {
   "cell_type": "code",
   "execution_count": 81,
   "metadata": {},
   "outputs": [
    {
     "data": {
      "text/plain": [
       "2"
      ]
     },
     "execution_count": 81,
     "metadata": {},
     "output_type": "execute_result"
    }
   ],
   "source": [
    "#using count()\n",
    "test_str.count('A')"
   ]
  },
  {
   "cell_type": "markdown",
   "metadata": {},
   "source": [
    "### Practice QA - https://towardsdatascience.com/41-questions-to-test-your-knowledge-of-python-strings-9eb473aa8fe8"
   ]
  },
  {
   "cell_type": "markdown",
   "metadata": {},
   "source": [
    "The istitle() function checks if each word is capitalized.\n",
    "Capitalize the first character of a string .capitalize()\n",
    "isnumeric() returns True if all characters are numeric.\n",
    "islower() returns True only if all characters in a string are lowercase.\n",
    "Python’s join() function can join characters in a list with a given character inserted between every element.\n",
    "print('-'.join(['a','b','c']))\n"
   ]
  },
  {
   "cell_type": "code",
   "execution_count": null,
   "metadata": {},
   "outputs": [],
   "source": []
  }
 ],
 "metadata": {
  "kernelspec": {
   "display_name": "Python 3",
   "language": "python",
   "name": "python3"
  },
  "language_info": {
   "codemirror_mode": {
    "name": "ipython",
    "version": 3
   },
   "file_extension": ".py",
   "mimetype": "text/x-python",
   "name": "python",
   "nbconvert_exporter": "python",
   "pygments_lexer": "ipython3",
   "version": "3.7.3"
  }
 },
 "nbformat": 4,
 "nbformat_minor": 2
}
