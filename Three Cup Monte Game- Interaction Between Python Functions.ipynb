{
 "cells": [
  {
   "cell_type": "markdown",
   "metadata": {},
   "source": [
    "#### A Simple Game Model :\n",
    "User has to correctly guess the cup which has the ball out of the three cups to win!\n",
    "Adding Python Functions into the scenario:\n",
    "1. Initial Python List as the Cup and Ball -> [ ' ', 'O' ,' ' ] Here 'O' is the ball and remaining 2 are empty cups\n",
    "\n",
    "2. Using a shuffle for this list and expressing this in a shuffle function → shuffle_list(mylist)\n",
    "\n",
    "3. Creating a function for player guess → player_guess\n",
    "\n",
    "4. Creating the function to check the player guess → check_guess\n",
    "\n",
    "5. Making our guess by running the functions we created together\n"
   ]
  },
  {
   "cell_type": "code",
   "execution_count": 1,
   "metadata": {},
   "outputs": [],
   "source": [
    "from random import shuffle\n",
    "my_list = [' ', 'O', ' ']\n"
   ]
  },
  {
   "cell_type": "code",
   "execution_count": 2,
   "metadata": {},
   "outputs": [],
   "source": [
    "def shuffle_list(my_list):\n",
    "    shuffle(my_list)\n",
    "    return my_list"
   ]
  },
  {
   "cell_type": "code",
   "execution_count": 3,
   "metadata": {},
   "outputs": [],
   "source": [
    "def player_guess():\n",
    "    \n",
    "    guess=''\n",
    "    while guess not in ['0','1','2']:\n",
    "        guess=input('Pick a number : 0, 1, 2 :\\t')\n",
    "    return int(guess)"
   ]
  },
  {
   "cell_type": "code",
   "execution_count": 4,
   "metadata": {},
   "outputs": [],
   "source": [
    "def check_guess(my_list,guess):\n",
    "    if my_list[guess]=='O':\n",
    "        print ('Correct!')\n",
    "    else:\n",
    "        print('Wrong Guess')\n",
    "        print(my_list)\n",
    "    "
   ]
  },
  {
   "cell_type": "code",
   "execution_count": 8,
   "metadata": {},
   "outputs": [
    {
     "name": "stdout",
     "output_type": "stream",
     "text": [
      "Pick a number : 0, 1, 2 :\t2\n",
      "Wrong Guess\n",
      "[' ', 'O', ' ']\n"
     ]
    }
   ],
   "source": [
    "#initial list\n",
    "my_list = [' ', 'O', ' ']\n",
    "\n",
    "#Shuffle list\n",
    "\n",
    "shuffle_ball=shuffle_list(my_list)\n",
    "\n",
    "#User Guess\n",
    "\n",
    "guess = player_guess()\n",
    "\n",
    "#Check Guess\n",
    "check_guess(shuffle_ball, guess)"
   ]
  },
  {
   "cell_type": "code",
   "execution_count": null,
   "metadata": {},
   "outputs": [],
   "source": []
  },
  {
   "cell_type": "code",
   "execution_count": null,
   "metadata": {},
   "outputs": [],
   "source": []
  }
 ],
 "metadata": {
  "kernelspec": {
   "display_name": "Python 3",
   "language": "python",
   "name": "python3"
  },
  "language_info": {
   "codemirror_mode": {
    "name": "ipython",
    "version": 3
   },
   "file_extension": ".py",
   "mimetype": "text/x-python",
   "name": "python",
   "nbconvert_exporter": "python",
   "pygments_lexer": "ipython3",
   "version": "3.7.3"
  }
 },
 "nbformat": 4,
 "nbformat_minor": 2
}
